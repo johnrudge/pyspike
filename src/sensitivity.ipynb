{
 "cells": [
  {
   "cell_type": "markdown",
   "metadata": {},
   "source": [
    "# Sensitivity calculations with the double spike toolbox"
   ]
  },
  {
   "cell_type": "code",
   "execution_count": 1,
   "metadata": {},
   "outputs": [],
   "source": [
    "import doublespike as ds"
   ]
  },
  {
   "cell_type": "markdown",
   "metadata": {},
   "source": [
    "It can be useful to know how the results of a double spike inversion change with small changes in the input parameters. This is called a sensitivity analysis, and requires the calculation of the derivatives of the model parameters with respect to the input parameters. The calculation of these derivatives is described in Appendix B of the manuscript. As an example, we will consider the Mo system studied by Burkhardt (2012, PhD thesis), which has the parameters:       "
   ]
  },
  {
   "cell_type": "code",
   "execution_count": 2,
   "metadata": {},
   "outputs": [],
   "source": [
    "isodata_mo = ds.IsoData(\"Mo\")\n",
    "isodata_mo.standard = [\n",
    "    0.147339,\n",
    "    0.092129,\n",
    "    0.158922,\n",
    "    0.166717,\n",
    "    0.095685,\n",
    "    0.242256,\n",
    "    0.096952,\n",
    "]\n",
    "isodata_mo.spike = [\n",
    "    0.009058,\n",
    "    0.005014,\n",
    "    0.009198,\n",
    "    0.012766,\n",
    "    0.363510,\n",
    "    0.028056,\n",
    "    0.572398,\n",
    "]\n",
    "isodata_mo.isoinv = [95, 97, 98, 100]\n",
    "prop = 0.4766  # proportion of spike in spike-sample mix"
   ]
  },
  {
   "cell_type": "markdown",
   "metadata": {},
   "source": [
    "To describe the sensitivity we will work with isotopic ratios, with $^{95}$Mo as the denominator isotope. The code below calculates the isotopic ratios of interest:"
   ]
  },
  {
   "cell_type": "code",
   "execution_count": 3,
   "metadata": {},
   "outputs": [
    {
     "name": "stdout",
     "output_type": "stream",
     "text": [
      "standard: [0.92711519 0.57971206 1.04904922 0.60208782 1.52437045 0.61006028]\n",
      "spike: [ 0.9847793   0.5451185   1.38791042 39.52054795  3.05022831 62.23070233]\n",
      "measured: [0.93000208 0.57798017 1.06601391 2.55049523 1.60076074 3.69502601]\n",
      "names: ['92Mo/95Mo' '94Mo/95Mo' '96Mo/95Mo' '97Mo/95Mo' '98Mo/95Mo' '100Mo/95Mo']\n",
      "inversion ratios: ['97Mo/95Mo' '98Mo/95Mo' '100Mo/95Mo']\n"
     ]
    }
   ],
   "source": [
    "di = 95  # denominator isotope, 95Mo\n",
    "y, P, n, T, m, *_ = ds.ratiodata(isodata_mo, di, prop, alpha=0.0, beta=0.0)\n",
    "invrat = isodata_mo.invrat()\n",
    "rationame = isodata_mo.rationame(di)\n",
    "print(\"standard:\", n)\n",
    "print(\"spike:\", T)\n",
    "print(\"measured:\", m)\n",
    "print(\"names:\", rationame)\n",
    "print(\"inversion ratios:\", rationame[invrat])"
   ]
  },
  {
   "cell_type": "markdown",
   "metadata": {},
   "source": [
    "$\\mathbf{y} = (\\lambda, \\alpha, \\beta)$ is the vector of model parameters, $\\mathbf{P}$ is the natural log of the ratio of isotope masses, $\\mathbf{n}$ is the standard/unspiked run, $\\mathbf{T}$ is the double spike, and $\\mathbf{m}$ is the measurement. `invrat` gives the indices of the isotope ratios used the inversion.\n",
    "\n",
    "Suppose we are interested in how the model parameters $\\mathbf{y}$ change with small changes in the standard value $\\mathbf{n}$, i.e. we want the derivative $\\partial \\mathbf{y} / \\partial \\mathbf{n}$ given in (27) of the manuscript. This matrix can be obtained as:"
   ]
  },
  {
   "cell_type": "code",
   "execution_count": 4,
   "metadata": {},
   "outputs": [
    {
     "name": "stdout",
     "output_type": "stream",
     "text": [
      "[[ 0.00000000e+00  0.00000000e+00  0.00000000e+00 -4.12008424e-02\n",
      "   3.96659826e-03  1.05075944e-02]\n",
      " [ 0.00000000e+00  0.00000000e+00  0.00000000e+00  1.62029455e+01\n",
      "   2.39442129e+01 -1.08263908e+01]\n",
      " [ 0.00000000e+00  0.00000000e+00  0.00000000e+00  1.59193754e+01\n",
      "   2.46737147e+00 -1.01154810e+01]]\n"
     ]
    }
   ],
   "source": [
    "dydn, *_ = ds.sensitivity(y, P, n, T, m, invrat)\n",
    "print(dydn)"
   ]
  },
  {
   "cell_type": "markdown",
   "metadata": {},
   "source": [
    "The middle row of this matrix is the derivative $\\partial \\alpha / \\partial \\mathbf{n}$, which tells us how the fractionation factor $\\alpha$ changes with small changes in the standard values."
   ]
  },
  {
   "cell_type": "code",
   "execution_count": 5,
   "metadata": {},
   "outputs": [
    {
     "name": "stdout",
     "output_type": "stream",
     "text": [
      "[  0.           0.           0.          16.20294547  23.94421293\n",
      " -10.82639081]\n",
      "['92Mo/95Mo' '94Mo/95Mo' '96Mo/95Mo' '97Mo/95Mo' '98Mo/95Mo' '100Mo/95Mo']\n"
     ]
    }
   ],
   "source": [
    "dalphadn = dydn[1, :]\n",
    "print(dalphadn)\n",
    "print(rationame)"
   ]
  },
  {
   "cell_type": "markdown",
   "metadata": {},
   "source": [
    "## Correction formulae\n",
    "\n",
    "Sensitivity analysis can be used to produce formulae to correct for departures from mass dependent fractionation. Here we provide an example of this, reproducing a correction formula given in (36) of [Hu and Dauphas (2017, J. Anal. At. Spectrom.)](https://doi.org/10.1039/C7JA00187H) This formula provides a correction $\\Delta$ to the 98Mo/95Mo ratio in $\\delta$ units when given nucleosynthetic anomalies on $\\mathbf{n}$ in $\\epsilon$ units. The correction is of the form  \n",
    "$$\\Delta_i =\\sum_j  S_{ij} \\epsilon_j$$\n",
    "for coefficients $S_{ij}$ obtained from the sensitivity analysis. Variations in $\\mathbf{n}$ can be written in $\\epsilon$ units as $d \\epsilon_j = 10^4 d n_j / n_j$. Variations in $\\delta$ units relate to the fractionation factor $\\alpha$ as $d \\delta_i = 10^3 P_i d \\alpha$. The coefficients of the Hu and Dauphas correction formula are thus given by \n",
    "$$S_{ij} = - \\frac{P_i n_j}{10} \\frac{\\partial \\alpha}{\\partial n_j} $$\n",
    "and calculated as:"
   ]
  },
  {
   "cell_type": "code",
   "execution_count": 6,
   "metadata": {},
   "outputs": [
    {
     "name": "stdout",
     "output_type": "stream",
     "text": [
      "[-0.         -0.         -0.         -0.03035603 -0.11357486  0.02055169]\n",
      "['92Mo/95Mo' '94Mo/95Mo' '96Mo/95Mo' '97Mo/95Mo' '98Mo/95Mo' '100Mo/95Mo']\n"
     ]
    }
   ],
   "source": [
    "ni = 98  # numerator isotope of interest\n",
    "i = isodata_mo.ratioidx(ni, di)  # index corresponding to the 98/95 ratio\n",
    "correction = -P[i] * n * dalphadn / 10.0\n",
    "print(correction)\n",
    "print(rationame)"
   ]
  },
  {
   "cell_type": "markdown",
   "metadata": {},
   "source": [
    "The above reproduces the Hu and Dauphas (2017) formula in (36)\n",
    "$$\\Delta^{98/95}\\text{Mo} = -0.0304 \\epsilon^{97/95}\\text{Mo} -0.1136 \\epsilon^{98/95}\\text{Mo} + 0.0206\\epsilon^{100/95}\\text{Mo}$$"
   ]
  },
  {
   "cell_type": "code",
   "execution_count": null,
   "metadata": {},
   "outputs": [],
   "source": []
  }
 ],
 "metadata": {
  "kernelspec": {
   "display_name": "Python 3 (ipykernel)",
   "language": "python",
   "name": "python3"
  },
  "language_info": {
   "codemirror_mode": {
    "name": "ipython",
    "version": 3
   },
   "file_extension": ".py",
   "mimetype": "text/x-python",
   "name": "python",
   "nbconvert_exporter": "python",
   "pygments_lexer": "ipython3",
   "version": "3.10.2"
  }
 },
 "nbformat": 4,
 "nbformat_minor": 2
}
