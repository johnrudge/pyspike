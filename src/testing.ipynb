{
 "cells": [
  {
   "cell_type": "code",
   "execution_count": 1,
   "metadata": {},
   "outputs": [],
   "source": [
    "import doublespike as ds"
   ]
  },
  {
   "cell_type": "code",
   "execution_count": 2,
   "metadata": {},
   "outputs": [],
   "source": [
    "idat = ds.IsoData('Fe')"
   ]
  },
  {
   "cell_type": "code",
   "execution_count": 3,
   "metadata": {},
   "outputs": [
    {
     "name": "stdout",
     "output_type": "stream",
     "text": [
      "element: Fe\n",
      "isonum: [54 56 57 58]\n",
      "mass: [53.9396148 55.9349421 56.9353987 57.9332805]\n",
      "standard: [0.05845 0.91754 0.02119 0.00282]\n",
      "spike: None\n"
     ]
    }
   ],
   "source": [
    "print(idat)"
   ]
  },
  {
   "cell_type": "code",
   "execution_count": 4,
   "metadata": {},
   "outputs": [],
   "source": [
    "idat.set_spike([0.0, 0.0, 0.5, 0.5])"
   ]
  },
  {
   "cell_type": "code",
   "execution_count": 5,
   "metadata": {},
   "outputs": [],
   "source": [
    "measured = [0.2658, 4.4861, 2.6302, 2.6180]"
   ]
  },
  {
   "cell_type": "code",
   "execution_count": 6,
   "metadata": {},
   "outputs": [
    {
     "data": {
      "text/plain": [
       "{'alpha': -0.190741366877082,\n",
       " 'beta': 1.8043635576745123,\n",
       " 'prop': 0.4999563048719154,\n",
       " 'sample': array([0.05806459, 0.91782714, 0.02126843, 0.00283983]),\n",
       " 'mixture': array([0.02903483, 0.45895368, 0.2606133 , 0.25139819])}"
      ]
     },
     "execution_count": 6,
     "metadata": {},
     "output_type": "execute_result"
    }
   ],
   "source": [
    "ds.dsinversion(idat, measured)"
   ]
  },
  {
   "cell_type": "code",
   "execution_count": 7,
   "metadata": {},
   "outputs": [
    {
     "name": "stdout",
     "output_type": "stream",
     "text": [
      "Help on function dsinversion in module doublespike.inversion:\n",
      "\n",
      "dsinversion(isodata, measured, spike=None, isoinv=None, standard=None)\n",
      "    Do the double spike inversion for a given set of measurements\n",
      "            isodata -- object of class IsoData, e.g. IsoData('Fe')\n",
      "            measured -- a matrix of beam intensities. Columns correspond to the\n",
      "                different isotopes e.g. for Fe, first column is 54Fe, second is 56Fe,\n",
      "                third is 57Fe, fourth is 58Fe. The matrix should have the same number\n",
      "                of columns as there are isotopes available.\n",
      "            spike -- a composition vector for the spike. e.g. [0, 0, 0.5, 0.5] is a 50-50\n",
      "                mix of 57Fe and 58Fe. If None this is read from isodata.\n",
      "            isoinv -- the four isotopes to use in the inversion, e.g [54, 56, 57, 58]. If\n",
      "                None this is read from isodata.\n",
      "            standard -- standard composition or unspiked run data. If\n",
      "                None this is read from isodata.\n",
      "    This routine performs the double spike inversion on measured data to return the\n",
      "    \"true\" composition of the sample. Output is returned as a dictionary with the\n",
      "    following fields\n",
      "            alpha -- the inferred natural fractionations\n",
      "            beta -- the inferred instrumental fractionations\n",
      "            prop -- the inferred proportions of spike to sample\n",
      "            sample -- the inferred compositions of the sample\n",
      "            mixture -- the inferred compositions of the mixture\n",
      "    Example\n",
      "    dsinversion(IsoData('Fe'),measured,[0, 0, 0.5, 0.5],[54, 56, 57, 58])\n",
      "\n"
     ]
    }
   ],
   "source": [
    "help(ds.dsinversion)"
   ]
  },
  {
   "cell_type": "code",
   "execution_count": null,
   "metadata": {},
   "outputs": [],
   "source": []
  },
  {
   "cell_type": "code",
   "execution_count": 8,
   "metadata": {},
   "outputs": [
    {
     "name": "stdout",
     "output_type": "stream",
     "text": [
      "Help on class IsoData in module doublespike.data:\n",
      "\n",
      "class IsoData(builtins.object)\n",
      " |  Object which stores data on an isotope system.\n",
      " |  \n",
      " |  Args:\n",
      " |      element (str): the element string (e.g. 'Fe')\n",
      " |  \n",
      " |  Attributes:\n",
      " |      element (str): the element e.g. 'Fe'\n",
      " |      isonum (array): the isotopes of this element e.g. [54, 56, 57, 58]\n",
      " |      mass (array): the atomic masses\n",
      " |      standard (array): composition of a standard as a vector\n",
      " |      spike (array): composition of a double spike used\n",
      " |      isoinv (array): the 4 isotopes to use the inversion\n",
      " |      rawspike (array): composition of single spikes available\n",
      " |      errormodel (dict): dictionary describing the errormodel\n",
      " |  \n",
      " |  Methods defined here:\n",
      " |  \n",
      " |  __init__(self, element)\n",
      " |      Given an element, initialise with some sensible default values.\n",
      " |  \n",
      " |  __repr__(self)\n",
      " |      Return repr(self).\n",
      " |  \n",
      " |  __str__(self)\n",
      " |      Return str(self).\n",
      " |  \n",
      " |  isoindex(self, ix)\n",
      " |      Give the data index corresponding to a given isotope number e.g. 56->1.\n",
      " |  \n",
      " |  isolabel(self)\n",
      " |      Isotope labels for plotting.\n",
      " |  \n",
      " |  isoname(self)\n",
      " |      Names of the isotopes.\n",
      " |  \n",
      " |  nisos(self)\n",
      " |      Number of isotopes in system.\n",
      " |  \n",
      " |  nratios(self)\n",
      " |      Number of isotope ratios to describe system.\n",
      " |  \n",
      " |  nrawspikes(self)\n",
      " |      Number of single spikes available.\n",
      " |  \n",
      " |  rawspikelabel(self)\n",
      " |      Single spike labels for plotting.\n",
      " |  \n",
      " |  set_custom_errormodel(self, errormodel)\n",
      " |      Set the error model used for error estimates and monte carlo runs.\n",
      " |      \n",
      " |      Args:\n",
      " |              errormodel: A dictionary giving the complete errormodel.\n",
      " |              \n",
      " |      See IsoData.errormodel for format of dictionary.\n",
      " |  \n",
      " |  set_element(self, element)\n",
      " |  \n",
      " |  set_errormodel(self, intensity=10.0, deltat=8.0, R=100000000000.0, T=300.0, radiogenic=None, measured_type='fixed-total')\n",
      " |      Set the error model used for error estimates and monte carlo runs.\n",
      " |      \n",
      " |      Args:\n",
      " |          intensity (float): Total beam intensity in volts\n",
      " |          delta_t (float): Integration time in seconds\n",
      " |          R (float): resistance in Ohms\n",
      " |          T (float): temperature in K\n",
      " |          radiogenic (str): If True put errors on the standard (unspiked) run, if False do not.\n",
      " |                      If None, then 'Pb','Sr','Hf','Os','Nd' are assumed radiogenic, others not.\n",
      " |          measured_type (str): If 'fixed-total' then total beam intensity of mixture is fixed,\n",
      " |                         if 'fixed-sample' then voltage for the sample is fixed.\n",
      " |  \n",
      " |  set_isoinv(self, isoinv)\n",
      " |  \n",
      " |  set_isonum(self, isonum)\n",
      " |  \n",
      " |  set_mass(self, mass)\n",
      " |  \n",
      " |  set_rawspike(self, rawspike)\n",
      " |  \n",
      " |  set_spike(self, spike)\n",
      " |  \n",
      " |  set_standard(self, standard)\n",
      " |  \n",
      " |  ----------------------------------------------------------------------\n",
      " |  Data descriptors defined here:\n",
      " |  \n",
      " |  __dict__\n",
      " |      dictionary for instance variables (if defined)\n",
      " |  \n",
      " |  __weakref__\n",
      " |      list of weak references to the object (if defined)\n",
      "\n"
     ]
    }
   ],
   "source": [
    "help(ds.IsoData)"
   ]
  },
  {
   "cell_type": "code",
   "execution_count": 9,
   "metadata": {},
   "outputs": [],
   "source": [
    "idat.set_errormodel()"
   ]
  },
  {
   "cell_type": "code",
   "execution_count": 10,
   "metadata": {},
   "outputs": [
    {
     "data": {
      "text/plain": [
       "{'measured': {'type': 'fixed-total',\n",
       "  'intensity': 10.0,\n",
       "  'a': array([2.0709756e-10, 2.0709756e-10, 2.0709756e-10, 2.0709756e-10]),\n",
       "  'b': array([2.00272058e-09, 2.00272058e-09, 2.00272058e-09, 2.00272058e-09]),\n",
       "  'c': array([0., 0., 0., 0.])},\n",
       " 'spike': {'type': 'fixed-total',\n",
       "  'intensity': 10.0,\n",
       "  'a': array([0., 0., 0., 0.]),\n",
       "  'b': array([0., 0., 0., 0.]),\n",
       "  'c': array([0., 0., 0., 0.])},\n",
       " 'standard': {'type': 'fixed-total',\n",
       "  'intensity': 10.0,\n",
       "  'a': array([0., 0., 0., 0.]),\n",
       "  'b': array([0., 0., 0., 0.]),\n",
       "  'c': array([0., 0., 0., 0.])}}"
      ]
     },
     "execution_count": 10,
     "metadata": {},
     "output_type": "execute_result"
    }
   ],
   "source": [
    "idat.errormodel"
   ]
  },
  {
   "cell_type": "code",
   "execution_count": 11,
   "metadata": {},
   "outputs": [
    {
     "data": {
      "text/plain": [
       "{'measured': {'type': 'fixed-total',\n",
       "  'intensity': 10.0,\n",
       "  'a': array([2.0709756e-10, 2.0709756e-10, 2.0709756e-10, 2.0709756e-10]),\n",
       "  'b': array([2.00272058e-09, 2.00272058e-09, 2.00272058e-09, 2.00272058e-09]),\n",
       "  'c': array([0., 0., 0., 0.])},\n",
       " 'spike': {'type': 'fixed-total',\n",
       "  'intensity': 10.0,\n",
       "  'a': array([0., 0., 0., 0.]),\n",
       "  'b': array([0., 0., 0., 0.]),\n",
       "  'c': array([0., 0., 0., 0.])},\n",
       " 'standard': {'type': 'fixed-total',\n",
       "  'intensity': 10.0,\n",
       "  'a': array([0., 0., 0., 0.]),\n",
       "  'b': array([0., 0., 0., 0.]),\n",
       "  'c': array([0., 0., 0., 0.])}}"
      ]
     },
     "execution_count": 11,
     "metadata": {},
     "output_type": "execute_result"
    }
   ],
   "source": [
    "idat=ds.IsoData('Fe')\n",
    "idat.set_errormodel()\n",
    "idat.errormodel"
   ]
  },
  {
   "cell_type": "code",
   "execution_count": 12,
   "metadata": {},
   "outputs": [
    {
     "name": "stdout",
     "output_type": "stream",
     "text": [
      "[[0.26568715 4.48608044 2.6301861  2.61805346]\n",
      " [0.26569946 4.48600042 2.63029706 2.61792861]\n",
      " [0.26575872 4.48597032 2.6303865  2.61787729]\n",
      " [0.26578747 4.48599453 2.63026923 2.61798592]\n",
      " [0.26574623 4.4858777  2.63037348 2.61804327]\n",
      " [0.26574411 4.48611183 2.63040412 2.61804674]\n",
      " [0.2657571  4.48589775 2.63033317 2.61801775]\n",
      " [0.26572326 4.48591507 2.63028124 2.6180031 ]\n",
      " [0.26575863 4.4861318  2.63032828 2.61796126]\n",
      " [0.26572141 4.48594203 2.63036798 2.61794394]]\n"
     ]
    },
    {
     "data": {
      "image/png": "[encoded data removed]",
      "text/plain": [
       "<Figure size 432x288 with 1 Axes>"
      ]
     },
     "metadata": {
      "needs_background": "light"
     },
     "output_type": "display_data"
    }
   ],
   "source": [
    "idat = ds.IsoData('Fe')\n",
    "idat.set_spike([0.0, 0.0, 0.5, 0.5])\n",
    "idat.set_errormodel()\n",
    "measuredv = ds.monterun(idat, prop = 0.5, alpha = -0.2, beta = 1.8, n = 1000)\n",
    "print(measuredv[0:10,:])\n",
    "    \n",
    "out = ds.dsinversion(idat, measuredv)\n",
    "import matplotlib.pyplot as plt\n",
    "plt.plot(out['alpha'])\n",
    "plt.ylabel(r'$\\alpha$')\n",
    "plt.show()"
   ]
  },
  {
   "cell_type": "code",
   "execution_count": 13,
   "metadata": {},
   "outputs": [
    {
     "data": {
      "text/plain": [
       "array([[0.2922578 , 4.58778095, 2.60597972, 2.51410077],\n",
       "       [0.29222731, 4.58770118, 2.60587908, 2.51421033],\n",
       "       [0.29228662, 4.58797641, 2.60598115, 2.51418152],\n",
       "       [0.29224955, 4.58778627, 2.60601497, 2.51413247],\n",
       "       [0.29227958, 4.5877002 , 2.60601772, 2.51412957],\n",
       "       [0.29227371, 4.58763789, 2.60596133, 2.51405936],\n",
       "       [0.29227968, 4.58761879, 2.60591961, 2.51414532],\n",
       "       [0.29225188, 4.58785188, 2.60602043, 2.51405666],\n",
       "       [0.29225186, 4.5876699 , 2.60594125, 2.51394289],\n",
       "       [0.29225827, 4.58766303, 2.60593052, 2.51399267]])"
      ]
     },
     "execution_count": 13,
     "metadata": {},
     "output_type": "execute_result"
    }
   ],
   "source": [
    "isodata = ds.IsoData('Fe')\n",
    "isodata.set_errormodel()\n",
    "measured = ds.monterun(isodata,0.5,[0, 0, 0.5, 0.5], n=10)\n",
    "measured"
   ]
  },
  {
   "cell_type": "code",
   "execution_count": 14,
   "metadata": {},
   "outputs": [
    {
     "data": {
      "text/plain": [
       "{'alpha': array([-0.0003883 ,  0.00209722,  0.00302121, -0.00125081,  0.0018179 ,\n",
       "         0.00129839,  0.00488389, -0.00326021, -0.00308483, -0.00107021]),\n",
       " 'beta': array([-0.00063724,  0.00424153,  0.00123002, -0.00069054, -0.00096698,\n",
       "        -0.00130816,  0.00160098, -0.00252597, -0.00344093, -0.00207135]),\n",
       " 'prop': array([0.50000141, 0.49997277, 0.49998105, 0.50000507, 0.50001082,\n",
       "        0.50001041, 0.49999308, 0.50001082, 0.50001742, 0.50000996]),\n",
       " 'sample': array([[0.05844921, 0.91754059, 0.02119016, 0.00282004],\n",
       "        [0.05845425, 0.91753683, 0.02118914, 0.00281978],\n",
       "        [0.05845612, 0.91753543, 0.02118876, 0.00281969],\n",
       "        [0.05844746, 0.91754189, 0.02119051, 0.00282013],\n",
       "        [0.05845368, 0.91753725, 0.02118925, 0.00281981],\n",
       "        [0.05845263, 0.91753804, 0.02118947, 0.00281987],\n",
       "        [0.0584599 , 0.91753261, 0.02118799, 0.00281949],\n",
       "        [0.05844339, 0.91754493, 0.02119134, 0.00282034],\n",
       "        [0.05844375, 0.91754467, 0.02119127, 0.00282032],\n",
       "        [0.05844783, 0.91754162, 0.02119044, 0.00282011]]),\n",
       " 'mixture': array([[0.02922452, 0.458769  , 0.26059575, 0.25141072],\n",
       "        [0.02922872, 0.45879339, 0.26058153, 0.25139636],\n",
       "        [0.02922917, 0.4587851 , 0.26058531, 0.25140042],\n",
       "        [0.02922344, 0.4587663 , 0.26059768, 0.25141258],\n",
       "        [0.02922621, 0.4587587 , 0.26059981, 0.25141529],\n",
       "        [0.02922571, 0.45875946, 0.26059972, 0.25141511],\n",
       "        [0.02923035, 0.45877265, 0.26059069, 0.25140631],\n",
       "        [0.02922106, 0.45876254, 0.26060085, 0.25141555],\n",
       "        [0.02922086, 0.45875635, 0.26060398, 0.25141882],\n",
       "        [0.02922333, 0.45876167, 0.26059999, 0.25141501]])}"
      ]
     },
     "execution_count": 14,
     "metadata": {},
     "output_type": "execute_result"
    }
   ],
   "source": [
    "ds.dsinversion(isodata,measured,[0, 0, 0.5, 0.5],[54, 56, 57, 58])"
   ]
  },
  {
   "cell_type": "code",
   "execution_count": 15,
   "metadata": {},
   "outputs": [
    {
     "name": "stdout",
     "output_type": "stream",
     "text": [
      "Help on package doublespike:\n",
      "\n",
      "NAME\n",
      "    doublespike\n",
      "\n",
      "DESCRIPTION\n",
      "    The double spike toolbox\n",
      "    ========================\n",
      "    \n",
      "    Error propagation and data reduction for the double spike technique in mass spectrometry.\n",
      "    \n",
      "    The workings of this package are described in:\n",
      "    \n",
      "    Rudge J.F., Reynolds B.C., Bourdon B. The double spike toolbox (2009) Chem. Geol. 265:420-431\n",
      "    https://dx.doi.org/10.1016/j.chemgeo.2009.05.010\n",
      "    \n",
      "    and at:\n",
      "    \n",
      "    https://johnrudge.com/doublespike\n",
      "\n",
      "PACKAGE CONTENTS\n",
      "    cocktail\n",
      "    data\n",
      "    errors\n",
      "    inversion\n",
      "    monte\n",
      "    plotting\n",
      "\n",
      "VERSION\n",
      "    0.1.0\n",
      "\n",
      "AUTHOR\n",
      "    John F. Rudge\n",
      "\n",
      "FILE\n",
      "    /home/rudge/research/pyspike/doublespike/__init__.py\n",
      "\n",
      "\n"
     ]
    }
   ],
   "source": [
    "help(ds)"
   ]
  },
  {
   "cell_type": "code",
   "execution_count": 16,
   "metadata": {},
   "outputs": [],
   "source": [
    "fe = ds.IsoData('Fe')"
   ]
  },
  {
   "cell_type": "code",
   "execution_count": 17,
   "metadata": {},
   "outputs": [
    {
     "data": {
      "text/plain": [
       "array([54, 56, 57, 58])"
      ]
     },
     "execution_count": 17,
     "metadata": {},
     "output_type": "execute_result"
    }
   ],
   "source": [
    "fe.isonum"
   ]
  },
  {
   "cell_type": "code",
   "execution_count": 18,
   "metadata": {},
   "outputs": [
    {
     "ename": "NameError",
     "evalue": "name 'IsoData' is not defined",
     "output_type": "error",
     "traceback": [
      "\u001b[0;31m---------------------------------------------------------------------------\u001b[0m",
      "\u001b[0;31mNameError\u001b[0m                                 Traceback (most recent call last)",
      "\u001b[0;32m<ipython-input-18-040e04564d5e>\u001b[0m in \u001b[0;36m<module>\u001b[0;34m\u001b[0m\n\u001b[0;32m----> 1\u001b[0;31m \u001b[0misodata_fe\u001b[0m \u001b[0;34m=\u001b[0m \u001b[0mIsoData\u001b[0m\u001b[0;34m(\u001b[0m\u001b[0;34m'Fe'\u001b[0m\u001b[0;34m)\u001b[0m\u001b[0;34m\u001b[0m\u001b[0;34m\u001b[0m\u001b[0m\n\u001b[0m\u001b[1;32m      2\u001b[0m \u001b[0merror\u001b[0m\u001b[0;34m,\u001b[0m \u001b[0mppmperamu\u001b[0m \u001b[0;34m=\u001b[0m \u001b[0merrorestimate\u001b[0m\u001b[0;34m(\u001b[0m\u001b[0misodata_fe\u001b[0m\u001b[0;34m,\u001b[0m\u001b[0;36m0.5\u001b[0m\u001b[0;34m,\u001b[0m\u001b[0;34m[\u001b[0m\u001b[0;36m0\u001b[0m\u001b[0;34m,\u001b[0m\u001b[0;36m0.5\u001b[0m\u001b[0;34m,\u001b[0m\u001b[0;36m0\u001b[0m\u001b[0;34m,\u001b[0m\u001b[0;36m0.5\u001b[0m\u001b[0;34m]\u001b[0m\u001b[0;34m)\u001b[0m\u001b[0;34m\u001b[0m\u001b[0;34m\u001b[0m\u001b[0m\n",
      "\u001b[0;31mNameError\u001b[0m: name 'IsoData' is not defined"
     ]
    }
   ],
   "source": [
    "isodata_fe = IsoData('Fe')\n",
    "error, ppmperamu = errorestimate(isodata_fe,0.5,[0,0.5,0,0.5])"
   ]
  },
  {
   "cell_type": "code",
   "execution_count": null,
   "metadata": {},
   "outputs": [],
   "source": []
  }
 ],
 "metadata": {
  "kernelspec": {
   "display_name": "Python 3",
   "language": "python",
   "name": "python3"
  },
  "language_info": {
   "codemirror_mode": {
    "name": "ipython",
    "version": 3
   },
   "file_extension": ".py",
   "mimetype": "text/x-python",
   "name": "python",
   "nbconvert_exporter": "python",
   "pygments_lexer": "ipython3",
   "version": "3.6.15"
  }
 },
 "nbformat": 4,
 "nbformat_minor": 2
}
