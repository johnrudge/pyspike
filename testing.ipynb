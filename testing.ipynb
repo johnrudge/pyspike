{
 "cells": [
  {
   "cell_type": "code",
   "execution_count": 1,
   "metadata": {},
   "outputs": [],
   "source": [
    "import doublespike as ds"
   ]
  },
  {
   "cell_type": "code",
   "execution_count": 2,
   "metadata": {},
   "outputs": [],
   "source": [
    "idat = ds.IsoData('Fe')"
   ]
  },
  {
   "cell_type": "code",
   "execution_count": 3,
   "metadata": {},
   "outputs": [
    {
     "name": "stdout",
     "output_type": "stream",
     "text": [
      "element: Fe\n",
      "isonum: [54 56 57 58]\n",
      "mass: [53.9396148 55.9349421 56.9353987 57.9332805]\n",
      "standard: [0.05845 0.91754 0.02119 0.00282]\n",
      "spike: None\n"
     ]
    }
   ],
   "source": [
    "print(idat)"
   ]
  },
  {
   "cell_type": "code",
   "execution_count": 4,
   "metadata": {},
   "outputs": [],
   "source": [
    "idat.set_spike([0.0, 0.0, 0.5, 0.5])"
   ]
  },
  {
   "cell_type": "code",
   "execution_count": 5,
   "metadata": {},
   "outputs": [],
   "source": [
    "measured = [0.2658, 4.4861, 2.6302, 2.6180]"
   ]
  },
  {
   "cell_type": "code",
   "execution_count": 6,
   "metadata": {},
   "outputs": [
    {
     "data": {
      "text/plain": [
       "{'alpha': -0.190741366877082,\n",
       " 'beta': 1.8043635576745123,\n",
       " 'prop': 0.4999563048719154,\n",
       " 'sample': array([0.05806459, 0.91782714, 0.02126843, 0.00283983]),\n",
       " 'mixture': array([0.02903483, 0.45895368, 0.2606133 , 0.25139819])}"
      ]
     },
     "execution_count": 6,
     "metadata": {},
     "output_type": "execute_result"
    }
   ],
   "source": [
    "ds.dsinversion(idat, measured)"
   ]
  },
  {
   "cell_type": "code",
   "execution_count": 7,
   "metadata": {},
   "outputs": [
    {
     "name": "stdout",
     "output_type": "stream",
     "text": [
      "Help on function dsinversion in module doublespike.inversion:\n",
      "\n",
      "dsinversion(isodata, measured, spike=None, isoinv=None, standard=None)\n",
      "    Do the double spike inversion for a given set of measurements\n",
      "            isodat -- object of class IsoData, e.g. IsoData('Fe')\n",
      "            measured -- a matrix of beam intensities. Columns correspond to the\n",
      "                different isotopes e.g. for Fe, first column is 54Fe, second is 56Fe,\n",
      "                third is 57Fe, fourth is 58Fe. The matrix should have the same number\n",
      "                of columns as there are isotopes available.\n",
      "            spike -- a composition vector for the spike. e.g. [0, 0, 0.5, 0.5] is a 50-50\n",
      "                mix of 57Fe and 58Fe. If None this is read from isodata.\n",
      "            isoinv -- the four isotopes to use in the inversion, e.g [54, 56, 57, 58]. If\n",
      "                None this is read from isodata.\n",
      "            standard -- standard composition or unspiked run data. If\n",
      "                None this is read from isodata.\n",
      "    This routine performs the double spike inversion on measured data to return the\n",
      "    \"true\" composition of the sample. Output is returned as a dictionary with the\n",
      "    following fields\n",
      "            alpha -- the inferred natural fractionations\n",
      "            beta -- the inferred instrumental fractionations\n",
      "            prop -- the inferred proportions of spike to sample\n",
      "            sample -- the inferred compositions of the sample\n",
      "            mixture -- the inferred compositions of the mixture\n",
      "    Example\n",
      "    dsinversion(IsoData('Fe'),measured,[0, 0, 0.5, 0.5],[54, 56, 57, 58])\n",
      "\n"
     ]
    }
   ],
   "source": [
    "help(ds.dsinversion)"
   ]
  },
  {
   "cell_type": "code",
   "execution_count": null,
   "metadata": {},
   "outputs": [],
   "source": []
  },
  {
   "cell_type": "code",
   "execution_count": 8,
   "metadata": {},
   "outputs": [
    {
     "name": "stdout",
     "output_type": "stream",
     "text": [
      "Help on class IsoData in module doublespike.isodata:\n",
      "\n",
      "class IsoData(builtins.object)\n",
      " |  Methods defined here:\n",
      " |  \n",
      " |  __init__(self, element)\n",
      " |      Initialize self.  See help(type(self)) for accurate signature.\n",
      " |  \n",
      " |  __repr__(self)\n",
      " |      Return repr(self).\n",
      " |  \n",
      " |  __str__(self)\n",
      " |      Return str(self).\n",
      " |  \n",
      " |  isoindex(self, ix)\n",
      " |      give the data index corresponding to a given isotope number\n",
      " |  \n",
      " |  isolabel(self)\n",
      " |      isotope labels for plotting\n",
      " |  \n",
      " |  isoname(self)\n",
      " |      names of the isotopes\n",
      " |  \n",
      " |  nisos(self)\n",
      " |      number of isotopes in system\n",
      " |  \n",
      " |  nratios(self)\n",
      " |      number of isotope ratios to describe system\n",
      " |  \n",
      " |  set_custom_errormodel(self, errormodel)\n",
      " |      Set the error model used for error estimates and monte carlo runs.\n",
      " |      \n",
      " |      Parameters:\n",
      " |              errormodel: A dictionary giving the complete errormodel.\n",
      " |              \n",
      " |      See IsoData.errormodel for format of dictionary.\n",
      " |  \n",
      " |  set_element(self, element)\n",
      " |  \n",
      " |  set_errormodel(self, intensity=10, deltat=8, R=100000000000.0, T=300, radiogenic=None, measured_type='fixed-total')\n",
      " |      Set the error model used for error estimates and monte carlo runs.\n",
      " |      \n",
      " |      Parameters:\n",
      " |              intensity: Total beam intensity in volts\n",
      " |              delta_t: Integration time in seconds\n",
      " |              R: resistance in Ohms\n",
      " |              T: temperature in K\n",
      " |              radiogenic: If True put errors on the standard (unspiked) run, if False do not.\n",
      " |                          If None, then 'Pb','Sr','Hf','Os','Nd' are assumed radiogenic, others not.\n",
      " |              measured_type: If 'fixed-total' then total beam intensity of mixture is fixed,\n",
      " |                             if 'fixed-sample' then voltage for the sample is fixed\n",
      " |  \n",
      " |  set_isonum(self, isonum)\n",
      " |  \n",
      " |  set_mass(self, mass)\n",
      " |  \n",
      " |  set_rawspike(self, rawspike)\n",
      " |  \n",
      " |  set_spike(self, spike)\n",
      " |  \n",
      " |  set_standard(self, standard)\n",
      " |  \n",
      " |  ----------------------------------------------------------------------\n",
      " |  Data descriptors defined here:\n",
      " |  \n",
      " |  __dict__\n",
      " |      dictionary for instance variables (if defined)\n",
      " |  \n",
      " |  __weakref__\n",
      " |      list of weak references to the object (if defined)\n",
      "\n"
     ]
    }
   ],
   "source": [
    "help(ds.IsoData)"
   ]
  },
  {
   "cell_type": "code",
   "execution_count": 9,
   "metadata": {},
   "outputs": [],
   "source": [
    "idat.set_errormodel()"
   ]
  },
  {
   "cell_type": "code",
   "execution_count": 10,
   "metadata": {},
   "outputs": [
    {
     "data": {
      "text/plain": [
       "{'measured': {'type': 'fixed-total',\n",
       "  'intensity': 10,\n",
       "  'a': array([2.0709756e-10, 2.0709756e-10, 2.0709756e-10, 2.0709756e-10]),\n",
       "  'b': array([2.00272058e-09, 2.00272058e-09, 2.00272058e-09, 2.00272058e-09]),\n",
       "  'c': array([0., 0., 0., 0.])},\n",
       " 'spike': {'type': 'fixed-total',\n",
       "  'intensity': 10,\n",
       "  'a': array([0., 0., 0., 0.]),\n",
       "  'b': array([0., 0., 0., 0.]),\n",
       "  'c': array([0., 0., 0., 0.])},\n",
       " 'standard': {'type': 'fixed-total',\n",
       "  'intensity': 10,\n",
       "  'a': array([0., 0., 0., 0.]),\n",
       "  'b': array([0., 0., 0., 0.]),\n",
       "  'c': array([0., 0., 0., 0.])}}"
      ]
     },
     "execution_count": 10,
     "metadata": {},
     "output_type": "execute_result"
    }
   ],
   "source": [
    "idat.errormodel"
   ]
  },
  {
   "cell_type": "code",
   "execution_count": 11,
   "metadata": {},
   "outputs": [
    {
     "data": {
      "text/plain": [
       "{'measured': {'type': 'fixed-total',\n",
       "  'intensity': 10,\n",
       "  'a': array([2.0709756e-10, 2.0709756e-10, 2.0709756e-10, 2.0709756e-10]),\n",
       "  'b': array([2.00272058e-09, 2.00272058e-09, 2.00272058e-09, 2.00272058e-09]),\n",
       "  'c': array([0., 0., 0., 0.])},\n",
       " 'spike': {'type': 'fixed-total',\n",
       "  'intensity': 10,\n",
       "  'a': array([0., 0., 0., 0.]),\n",
       "  'b': array([0., 0., 0., 0.]),\n",
       "  'c': array([0., 0., 0., 0.])},\n",
       " 'standard': {'type': 'fixed-total',\n",
       "  'intensity': 10,\n",
       "  'a': array([0., 0., 0., 0.]),\n",
       "  'b': array([0., 0., 0., 0.]),\n",
       "  'c': array([0., 0., 0., 0.])}}"
      ]
     },
     "execution_count": 11,
     "metadata": {},
     "output_type": "execute_result"
    }
   ],
   "source": [
    "idat=ds.IsoData('Fe')\n",
    "idat.set_errormodel()\n",
    "idat.errormodel"
   ]
  },
  {
   "cell_type": "code",
   "execution_count": 12,
   "metadata": {},
   "outputs": [
    {
     "name": "stdout",
     "output_type": "stream",
     "text": [
      "[[0.26574547 4.48597765 2.63034268 2.6179153 ]\n",
      " [0.2657121  4.48586656 2.6303873  2.61787862]\n",
      " [0.26573978 4.48588227 2.6303469  2.61801331]\n",
      " [0.26573488 4.48597657 2.63045121 2.61781531]\n",
      " [0.26568279 4.48590343 2.63031812 2.61790267]\n",
      " [0.26573024 4.48594063 2.63017982 2.61794388]\n",
      " [0.26576043 4.4858857  2.63027336 2.61786617]\n",
      " [0.26574343 4.48598938 2.63034144 2.61794811]\n",
      " [0.26577707 4.48605994 2.63026825 2.61792145]\n",
      " [0.26575533 4.48591607 2.63017772 2.61801761]]\n"
     ]
    },
    {
     "data": {
      "image/png": "[encoded data removed]",
      "text/plain": [
       "<Figure size 432x288 with 1 Axes>"
      ]
     },
     "metadata": {
      "needs_background": "light"
     },
     "output_type": "display_data"
    }
   ],
   "source": [
    "idat = ds.IsoData('Fe')\n",
    "idat.set_spike([0.0, 0.0, 0.5, 0.5])\n",
    "idat.set_errormodel()\n",
    "measuredv = ds.monterun(idat, prop = 0.5, alpha = -0.2, beta = 1.8, n = 1000)\n",
    "print(measuredv[0:10,:])\n",
    "    \n",
    "out = ds.dsinversion(idat, measuredv)\n",
    "import matplotlib.pyplot as plt\n",
    "plt.plot(out['alpha'])\n",
    "plt.ylabel(r'$\\alpha$')\n",
    "plt.show()"
   ]
  },
  {
   "cell_type": "code",
   "execution_count": 15,
   "metadata": {},
   "outputs": [
    {
     "data": {
      "text/plain": [
       "array([[0.29223126, 4.5876326 , 2.60581203, 2.51401705],\n",
       "       [0.2922414 , 4.58763526, 2.60587647, 2.51407369],\n",
       "       [0.29226142, 4.58764064, 2.60588375, 2.51414258],\n",
       "       [0.2922614 , 4.5877192 , 2.6059649 , 2.51426829],\n",
       "       [0.29223585, 4.58772006, 2.60594392, 2.51413719],\n",
       "       [0.29226075, 4.58776235, 2.60591087, 2.51410654],\n",
       "       [0.29224381, 4.58762587, 2.60603796, 2.5141483 ],\n",
       "       [0.29222804, 4.58767465, 2.60601161, 2.51396086],\n",
       "       [0.29223711, 4.58772723, 2.60594092, 2.51406348],\n",
       "       [0.2922563 , 4.58775071, 2.60604885, 2.51413132]])"
      ]
     },
     "execution_count": 15,
     "metadata": {},
     "output_type": "execute_result"
    }
   ],
   "source": [
    "isodata = ds.IsoData('Fe')\n",
    "isodata.set_errormodel()\n",
    "measured = ds.monterun(isodata,0.5,[0, 0, 0.5, 0.5], n=10)\n",
    "measured"
   ]
  },
  {
   "cell_type": "code",
   "execution_count": 17,
   "metadata": {},
   "outputs": [
    {
     "data": {
      "text/plain": [
       "{'alpha': array([-8.19529559e-05,  6.49162143e-04,  3.86449300e-03,  4.46819578e-03,\n",
       "        -4.01365478e-04,  1.69828847e-03, -1.08055231e-03, -6.48891316e-03,\n",
       "        -1.95266560e-03, -1.25114712e-03]),\n",
       " 'beta': array([ 0.00127892,  0.0010706 ,  0.00243253,  0.00350951,  0.00105174,\n",
       "         0.00105971, -0.00094264, -0.00457243, -0.00057539, -0.00154055]),\n",
       " 'prop': array([0.49998414, 0.49999123, 0.49998464, 0.49998318, 0.49999348,\n",
       "        0.49998727, 0.5000176 , 0.50003018, 0.50000064, 0.5000144 ]),\n",
       " 'sample': array([[0.05844983, 0.91754012, 0.02119003, 0.00282001],\n",
       "        [0.05845132, 0.91753902, 0.02118973, 0.00281993],\n",
       "        [0.05845783, 0.91753415, 0.02118841, 0.0028196 ],\n",
       "        [0.05845906, 0.91753324, 0.02118817, 0.00281954],\n",
       "        [0.05844919, 0.91754061, 0.02119016, 0.00282004],\n",
       "        [0.05845344, 0.91753743, 0.0211893 , 0.00281982],\n",
       "        [0.05844781, 0.91754163, 0.02119044, 0.00282011],\n",
       "        [0.05843685, 0.91754981, 0.02119266, 0.00282067],\n",
       "        [0.05844604, 0.91754295, 0.0211908 , 0.0028202 ],\n",
       "        [0.05844746, 0.91754189, 0.02119051, 0.00282013]]),\n",
       " 'mixture': array([[0.02922584, 0.45878461, 0.26058742, 0.25140212],\n",
       "        [0.02922617, 0.45877755, 0.26059067, 0.25140561],\n",
       "        [0.02922981, 0.45878117, 0.26058685, 0.25140216],\n",
       "        [0.02923051, 0.45878205, 0.26058603, 0.25140141],\n",
       "        [0.02922497, 0.45877628, 0.26059196, 0.25140678],\n",
       "        [0.02922747, 0.4587804 , 0.26058856, 0.25140358],\n",
       "        [0.02922288, 0.45875467, 0.26060365, 0.25141881],\n",
       "        [0.02921666, 0.45874722, 0.26061078, 0.25142534],\n",
       "        [0.02922298, 0.45877089, 0.26059571, 0.25141042],\n",
       "        [0.02922289, 0.45875773, 0.26060215, 0.25141723]])}"
      ]
     },
     "execution_count": 17,
     "metadata": {},
     "output_type": "execute_result"
    }
   ],
   "source": [
    "ds.dsinversion(isodata,measured,[0, 0, 0.5, 0.5],[54, 56, 57, 58])"
   ]
  },
  {
   "cell_type": "code",
   "execution_count": null,
   "metadata": {},
   "outputs": [],
   "source": []
  }
 ],
 "metadata": {
  "kernelspec": {
   "display_name": "Python 3",
   "language": "python",
   "name": "python3"
  },
  "language_info": {
   "codemirror_mode": {
    "name": "ipython",
    "version": 3
   },
   "file_extension": ".py",
   "mimetype": "text/x-python",
   "name": "python",
   "nbconvert_exporter": "python",
   "pygments_lexer": "ipython3",
   "version": "3.6.15"
  }
 },
 "nbformat": 4,
 "nbformat_minor": 2
}
