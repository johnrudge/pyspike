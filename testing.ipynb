{
 "cells": [
  {
   "cell_type": "code",
   "execution_count": 1,
   "metadata": {},
   "outputs": [],
   "source": [
    "import doublespike as ds"
   ]
  },
  {
   "cell_type": "code",
   "execution_count": 2,
   "metadata": {},
   "outputs": [],
   "source": [
    "idat = ds.IsoData('Fe')"
   ]
  },
  {
   "cell_type": "code",
   "execution_count": 3,
   "metadata": {},
   "outputs": [
    {
     "name": "stdout",
     "output_type": "stream",
     "text": [
      "element: Fe\n",
      "isonum: [54 56 57 58]\n",
      "mass: [53.9396148 55.9349421 56.9353987 57.9332805]\n",
      "standard: [0.05845 0.91754 0.02119 0.00282]\n",
      "spike: None\n"
     ]
    }
   ],
   "source": [
    "print(idat)"
   ]
  },
  {
   "cell_type": "code",
   "execution_count": 4,
   "metadata": {},
   "outputs": [],
   "source": [
    "idat.set_spike([0.0, 0.0, 0.5, 0.5])"
   ]
  },
  {
   "cell_type": "code",
   "execution_count": 5,
   "metadata": {},
   "outputs": [],
   "source": [
    "measured = [0.2658, 4.4861, 2.6302, 2.6180]"
   ]
  },
  {
   "cell_type": "code",
   "execution_count": 6,
   "metadata": {},
   "outputs": [
    {
     "data": {
      "text/plain": [
       "{'alpha': -0.19074136687712365,\n",
       " 'beta': 1.8043635576744885,\n",
       " 'prop': 0.4999563048719156,\n",
       " 'sample': array([0.05806459, 0.91782714, 0.02126843, 0.00283983]),\n",
       " 'mixture': array([0.02903483, 0.45895368, 0.2606133 , 0.25139819])}"
      ]
     },
     "execution_count": 6,
     "metadata": {},
     "output_type": "execute_result"
    }
   ],
   "source": [
    "ds.dsinversion(idat, measured)"
   ]
  },
  {
   "cell_type": "code",
   "execution_count": 7,
   "metadata": {},
   "outputs": [
    {
     "name": "stdout",
     "output_type": "stream",
     "text": [
      "Help on function dsinversion in module doublespike.inversion:\n",
      "\n",
      "dsinversion(isodata, measured, spike=None, isoinv=None, standard=None)\n",
      "    DSINVERSION    Do the double spike inversion for a given set of measurements\n",
      "    out=DSINVERSION(element,measured,spike,isoinv,standard)\n",
      "             element -- element used in double spike, e.g. 'Fe'\n",
      "             measured -- a matrix of beam intensities. Columns correspond to the\n",
      "                 different isotopes e.g. for Fe, first column is 54Fe, second is 56Fe,\n",
      "                 third is 57Fe, fourth is 58Fe. The matrix should have the same number\n",
      "                 of columns as there are isotopes available.\n",
      "             spike -- a composition vector for the spike. e.g. [0 0 0.5 0.5] is a 50-50\n",
      "                 mix of 57Fe and 58Fe.\n",
      "             isoinv -- the four isotopes to use in the inversion, e.g [54 56 57 58]. This\n",
      "                 defaults to the first four isotopes.\n",
      "             standard -- standard composition or unspiked run data. Defaults to the\n",
      "                 value in ISODATA.(element).standard if not specified.\n",
      "     This routine performs the double spike inversion on measured data to return the\n",
      "     \"true\" composition of the sample. Output is returned as a structure with the\n",
      "     following fields\n",
      "             alpha -- the inferred natural fractionations\n",
      "             beta -- the inferred instrumental fractionations\n",
      "             prop -- the inferred proportions of spike to sample\n",
      "             sample -- the inferred compositions of the sample\n",
      "             mixture -- the inferred compositions of the mixture\n",
      "     Example\n",
      "     out=dsinversion('Fe',measured,[0 0 0.5 0.5],[54 56 57 58]);\n",
      "     plot(out.alpha);\n",
      "\n"
     ]
    }
   ],
   "source": [
    "help(ds.dsinversion)"
   ]
  },
  {
   "cell_type": "code",
   "execution_count": null,
   "metadata": {},
   "outputs": [],
   "source": []
  },
  {
   "cell_type": "code",
   "execution_count": 9,
   "metadata": {},
   "outputs": [
    {
     "name": "stdout",
     "output_type": "stream",
     "text": [
      "Help on class IsoData in module doublespike.isodata:\n",
      "\n",
      "class IsoData(builtins.object)\n",
      " |  Methods defined here:\n",
      " |  \n",
      " |  __init__(self, element)\n",
      " |      Initialize self.  See help(type(self)) for accurate signature.\n",
      " |  \n",
      " |  __repr__(self)\n",
      " |      Return repr(self).\n",
      " |  \n",
      " |  __str__(self)\n",
      " |      Return str(self).\n",
      " |  \n",
      " |  isoindex(self, ix)\n",
      " |  \n",
      " |  isolabel(self)\n",
      " |  \n",
      " |  isoname(self)\n",
      " |  \n",
      " |  nisos(self)\n",
      " |  \n",
      " |  nratios(self)\n",
      " |  \n",
      " |  set_element(self, element)\n",
      " |  \n",
      " |  set_isonum(self, isonum)\n",
      " |  \n",
      " |  set_mass(self, mass)\n",
      " |  \n",
      " |  set_rawspike(self, rawspike)\n",
      " |  \n",
      " |  set_spike(self, spike)\n",
      " |  \n",
      " |  set_standard(self, standard)\n",
      " |  \n",
      " |  ----------------------------------------------------------------------\n",
      " |  Data descriptors defined here:\n",
      " |  \n",
      " |  __dict__\n",
      " |      dictionary for instance variables (if defined)\n",
      " |  \n",
      " |  __weakref__\n",
      " |      list of weak references to the object (if defined)\n",
      "\n"
     ]
    }
   ],
   "source": [
    "help(ds.IsoData)"
   ]
  },
  {
   "cell_type": "code",
   "execution_count": null,
   "metadata": {},
   "outputs": [],
   "source": []
  }
 ],
 "metadata": {
  "kernelspec": {
   "display_name": "Python 3",
   "language": "python",
   "name": "python3"
  },
  "language_info": {
   "codemirror_mode": {
    "name": "ipython",
    "version": 3
   },
   "file_extension": ".py",
   "mimetype": "text/x-python",
   "name": "python",
   "nbconvert_exporter": "python",
   "pygments_lexer": "ipython3",
   "version": "3.6.15"
  }
 },
 "nbformat": 4,
 "nbformat_minor": 2
}
